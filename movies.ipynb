{
 "cells": [
  {
   "cell_type": "code",
   "execution_count": 63,
   "metadata": {},
   "outputs": [],
   "source": [
    "import requests\n",
    "from bs4 import BeautifulSoup\n",
    "import openpyxl"
   ]
  },
  {
   "cell_type": "code",
   "execution_count": 66,
   "metadata": {},
   "outputs": [],
   "source": [
    "excel = openpyxl.Workbook()\n",
    "# print(excel.sheetnames)\n",
    "sheet = excel.active\n",
    "sheet.title = 'Movies'\n",
    "sheet.append([\"rank\",\"name\",\"year\",\"rating\"])\n",
    "\n",
    "try:\n",
    "    source = requests.get(\"https://www.imdb.com/chart/top/\")\n",
    "    source.raise_for_status()\n",
    "    soup = BeautifulSoup(source.text, \"html.parser\")\n",
    "    movies = soup.find('tbody', class_ ='lister-list').find_all('tr')\n",
    "    \n",
    "    for movie in movies:\n",
    "        name = movie.find('td', class_ ='titleColumn').a.text\n",
    "        # print(name)\n",
    "        # print('\\n')\n",
    "        rank = movie.find('td', class_ = 'titleColumn').get_text(strip = True).split('.')[0]\n",
    "        # print(rank)\n",
    "        rating = movie.find('td', class_ = 'ratingColumn imdbRating').find('strong').get_text()\n",
    "        # print(rating)\n",
    "        year = movie.find('td', class_ = 'titleColumn').span.text.strip(\"()\")\n",
    "        # print(year)\n",
    "        # Printing all values in one line\n",
    "        #print(rank, name, year, rating)\n",
    "        sheet.append([rank, name, year, rating])\n",
    "except Exception as e:\n",
    "    print(e) \n",
    "    \n",
    "excel.save('Top Rated Movies.xlsx')"
   ]
  }
 ],
 "metadata": {
  "kernelspec": {
   "display_name": "Python 3.9.7 ('base')",
   "language": "python",
   "name": "python3"
  },
  "language_info": {
   "codemirror_mode": {
    "name": "ipython",
    "version": 3
   },
   "file_extension": ".py",
   "mimetype": "text/x-python",
   "name": "python",
   "nbconvert_exporter": "python",
   "pygments_lexer": "ipython3",
   "version": "3.9.7"
  },
  "orig_nbformat": 4,
  "vscode": {
   "interpreter": {
    "hash": "3d2c322a9e1081b2be25354856d0c91dca3a7eed4b44bc1016cd72cd19d17e07"
   }
  }
 },
 "nbformat": 4,
 "nbformat_minor": 2
}
